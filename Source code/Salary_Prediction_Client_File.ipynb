{
  "cells": [
    {
      "cell_type": "markdown",
      "metadata": {
        "id": "iLik4GaG3YdA"
      },
      "source": [
        "# **Uploading the Client file and Analysis**"
      ]
    },
    {
      "cell_type": "code",
      "execution_count": null,
      "metadata": {
        "id": "OdeKhd-W3NOL"
      },
      "outputs": [],
      "source": [
        "import pandas as pd\n",
        "df = pd.read_csv('Clientinput.csv')\n",
        "df"
      ]
    },
    {
      "cell_type": "markdown",
      "metadata": {
        "id": "vSiJVuz-6Eyr"
      },
      "source": [
        "# **Importing the ML model**"
      ]
    },
    {
      "cell_type": "code",
      "execution_count": null,
      "metadata": {
        "id": "8ZTVy3wG5M04"
      },
      "outputs": [],
      "source": [
        "import pickle\n",
        "with open('/content/salarymodel', 'rb') as f:\n",
        "  reg = pickle.load(f)"
      ]
    },
    {
      "cell_type": "markdown",
      "metadata": {
        "id": "8OOM30Ql63Ry"
      },
      "source": [
        "# **Predict the output**"
      ]
    },
    {
      "cell_type": "code",
      "execution_count": null,
      "metadata": {
        "id": "j2wtuEkk6r-P"
      },
      "outputs": [],
      "source": [
        "salarydf = reg.predict(df)"
      ]
    },
    {
      "cell_type": "code",
      "execution_count": null,
      "metadata": {
        "id": "vxj4vY-K8CNI"
      },
      "outputs": [],
      "source": [
        "df['salary'] = salarydf\n",
        "df"
      ]
    },
    {
      "cell_type": "code",
      "execution_count": null,
      "metadata": {
        "id": "Lwd4rnbQ8HnI"
      },
      "outputs": [],
      "source": [
        "df.to_csv('Predicted salary.csv', index = False)"
      ]
    }
  ],
  "metadata": {
    "colab": {
      "name": "Salary Prediction Client File.ipynb",
      "provenance": []
    },
    "kernelspec": {
      "display_name": "Python 3",
      "name": "python3"
    },
    "language_info": {
      "name": "python"
    }
  },
  "nbformat": 4,
  "nbformat_minor": 0
}